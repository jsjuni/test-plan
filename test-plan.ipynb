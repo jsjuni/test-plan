{
 "cells": [
  {
   "cell_type": "markdown",
   "id": "f498dd9d-0863-429c-ad8b-398715c48749",
   "metadata": {
    "panel-layout": {
     "height": 135.625,
     "visible": true,
     "width": 100
    }
   },
   "source": [
    "Planning and Optimizing a Test Campaign\n",
    "=======================================\n",
    "J S Jenkins\n",
    "-----------\n",
    "\n",
    "# Overview\n",
    "\n",
    "# Terminology\n",
    "\n",
    "|Term|Concept and Interpretation|\n",
    "|-------|--------------|\n",
    "| quantity | A measurable property of an object. Example: cylinder head temperature. |\n",
    "| constraint | A relational expression involving at least one quantity. Example: cylinder head temperature less than 100 &deg;C. |\n",
    "| scenario | A named conjunction of constraints. state of the world. Examples: idling (speed 0 m/s), level driving at highway speed (speed 28 m/s, roadway pitch 0&deg;), moderate weather conditions (ambient temperature 20 &deg;C). (For the purposes of this example, we do not require the specific constraints.) |\n",
    "| situation | A conjunction of scenarios used to specify conditions of applicability of a requirement. Examples: idling under moderate weather conditions, level driving at highway speed under moderate weather conditions.\n",
    "|requirement| A constraint on a quantity that applies during a disjunction of situations. Examples: While idling under moderate weather conditions or level driving at highway speed under moderate weather condititions, the cylinder head temperature shall not exceed 100 &deg;C.\n",
    "|configuration| A conjunction of scenarios that stand as proxies for real-world scenarios for the purposes of testing and verification. See Situations to Configurations below.\n",
    "\n",
    "# Workflow Example\n",
    "\n",
    "## Sample Requirement Set\n",
    "\n",
    "Following the terminology above, we generate a set of named quantities, a set of named scenarios, and a set of named requirements. Each requirement applies during a disjunction of unnamed situations. These situations are conjunctions of scenarios and can be represented by the sets of scenarios to be conjoined. Because a scenario is itself a conjunction of constraints, a situation expresses a set of constraints in _disjunctive normal form_.\n",
    "\n",
    "Because constraints necessarily limit the state space, an empty situation denotes _always and everywhere_. A requirement such as \"The vehicle dry mass shall not exceed 1500 kg.\" is interpreted to apply during an empty situation.\n",
    "\n",
    "Each generated requirement is randomly a disjunction of one or two situations, each of which is randomly assigned a conjunction of zero to five scenarios.\n",
    "\n",
    "Finally, each requirement is randomly assigned a quantity to constrain. For the purposes of this experiment, the particular constraint is irrelevant."
   ]
  },
  {
   "cell_type": "code",
   "execution_count": 1,
   "id": "88cb3558-40d7-40cd-98f6-25006ef3e63e",
   "metadata": {},
   "outputs": [
    {
     "name": "stdout",
     "output_type": "stream",
     "text": [
      "50 quantities\n",
      "20 scenarios\n",
      "200 requirements\n"
     ]
    }
   ],
   "source": [
    "import json\n",
    "\n",
    "quantities_file = \"build/quantities.json\"\n",
    "scenarios_file = \"build/scenarios.json\"\n",
    "requirements_file = \"build/requirements.json\"\n",
    "\n",
    "quantities = json.load(fp = open(quantities_file))\n",
    "scenarios = json.load(fp = open(scenarios_file))[\"scenarios\"]\n",
    "requirements = json.load(fp = open(requirements_file))[\"requirements\"]\n",
    "\n",
    "print(f\"{len(quantities)} quantities\")\n",
    "print(f\"{len(scenarios)} scenarios\")\n",
    "print(f\"{len(requirements)} requirements\")\n"
   ]
  },
  {
   "cell_type": "markdown",
   "id": "63566e95-2cbc-45d7-a996-c3dd2e314ce1",
   "metadata": {},
   "source": [
    "## Grouping by Situation\n",
    "\n",
    "If two or more requirements apply in the same situation, it may be more efficient (and/or less error-prone) to verify them in a single activity with that situation in effect. Accordingly, the first step in the workflow is to group requirements by situation. Having done so, we obtain a map from each unique situation to the requirements that explictly apply during that situation and the quantities constrained by those requirements.\n",
    "\n",
    "While it is impractical to conduct \"blind\" testing in a rigorous sense (the constraints imposed by requirements are known to testers), there is an argument that the requirements verification process should be separated into a data collection step that merely collects observations of constrained quantities regardless of the actual constraints, and a subsequent step (perhaps performed by others) that verifies conformance of those observations with the relevant constraints. In the following, we focus on the data collection activities. The verification step is a straightforward computation.\n",
    "\n",
    "In principle, we could proceed directly to testing at this point. In practice, however, other considerations apply. These will be addressed in the following sections."
   ]
  },
  {
   "cell_type": "code",
   "execution_count": 2,
   "id": "d73ae986-6f23-4fa2-b735-8d8554165645",
   "metadata": {},
   "outputs": [
    {
     "name": "stdout",
     "output_type": "stream",
     "text": [
      "190 distinct situations\n"
     ]
    }
   ],
   "source": [
    "tests_file = \"build/tests.json\"\n",
    "tests = json.load(open(tests_file))\n",
    "print(f\"{len(tests)} distinct situations\")"
   ]
  },
  {
   "cell_type": "markdown",
   "id": "2d82e648-8fbf-4b5b-94ba-06a1568a5eac",
   "metadata": {},
   "source": [
    "## Situations to Configurations"
   ]
  },
  {
   "cell_type": "code",
   "execution_count": 3,
   "id": "647682e9-fac1-49c0-9eb2-5ff4d047dca7",
   "metadata": {},
   "outputs": [
    {
     "name": "stdout",
     "output_type": "stream",
     "text": [
      "190 distinct configurations\n"
     ]
    }
   ],
   "source": [
    "print(f\"{len(tests)} distinct configurations\")"
   ]
  },
  {
   "cell_type": "markdown",
   "id": "c3217462-f313-4d0d-ba71-239f3c0c79bf",
   "metadata": {},
   "source": [
    "## Costs\n",
    "\n",
    "### Configuration Setup/Teardown Costs"
   ]
  },
  {
   "cell_type": "code",
   "execution_count": null,
   "id": "c0a8de27-ba72-4743-a126-8523cc0a74b5",
   "metadata": {},
   "outputs": [],
   "source": []
  },
  {
   "cell_type": "markdown",
   "id": "5cefa7d5-9ed6-4985-9ea1-685746f4dfa1",
   "metadata": {},
   "source": [
    "### Observation Costs"
   ]
  },
  {
   "cell_type": "code",
   "execution_count": null,
   "id": "95c897f3-9fd8-4c75-836c-4f29bcbf6fb2",
   "metadata": {},
   "outputs": [],
   "source": []
  },
  {
   "cell_type": "markdown",
   "id": "0df2fa9b-fc47-4ddb-988b-2c7072bd6e42",
   "metadata": {},
   "source": [
    "## Configuration Sufficiency\n",
    "\n",
    "By definition, if a requirement applies in a particular configuration _C_<sub>1</sub>, then it applies in any configuration _C_<sub>2</sub> for which _C_<sub>1</sub> ⊆ _C_<sub>2</sub>.\n",
    "For example, if _C_<sub>1</sub> corresponds to the scenario set {_S_<sub>1</sub>, _S_<sub>2</sub>} and _C_<sub>2</sub> corresponds to the scenario set {_S_<sub>1</sub>, _S_<sub>2</sub>, _S_<sub>3</sub>}, then\n",
    "the state of the world represented by by _C_<sub>2</sub> (_S_<sub>1</sub> ∧ _S_<sub>2</sub> ∧ _S_<sub>3</sub>) implies the state of the world implied by _C_<sub>1</sub> (_S_<sub>1</sub> ∧ _S_<sub>2</sub>), and therefore\n",
    "any requirement that applies during _C_<sub>1</sub> also applies during _C_<sub>2</sub>."
   ]
  },
  {
   "cell_type": "code",
   "execution_count": 4,
   "id": "6e3ba8eb-524b-4ec3-9ab9-646290cbc302",
   "metadata": {},
   "outputs": [
    {
     "name": "stdout",
     "output_type": "stream",
     "text": [
      "148 distinct configurations\n"
     ]
    }
   ],
   "source": [
    "tests_pruned_file = \"build/tests-pruned.json\"\n",
    "tests_pruned = json.load(open(tests_pruned_file))\n",
    "print(f\"{len(tests_pruned)} distinct configurations\")"
   ]
  },
  {
   "cell_type": "markdown",
   "id": "a7c2c884-7a73-45d5-8b36-ff018089e82c",
   "metadata": {},
   "source": [
    "## Campaign Partitioning"
   ]
  },
  {
   "cell_type": "code",
   "execution_count": null,
   "id": "9a224c66-7f4f-4397-b3eb-c376072d5658",
   "metadata": {},
   "outputs": [],
   "source": []
  }
 ],
 "metadata": {
  "kernelspec": {
   "display_name": "Python 3 (ipykernel)",
   "language": "python",
   "name": "python3"
  },
  "language_info": {
   "codemirror_mode": {
    "name": "ipython",
    "version": 3
   },
   "file_extension": ".py",
   "mimetype": "text/x-python",
   "name": "python",
   "nbconvert_exporter": "python",
   "pygments_lexer": "ipython3",
   "version": "3.12.7"
  },
  "panel-cell-order": [
   "f498dd9d-0863-429c-ad8b-398715c48749"
  ]
 },
 "nbformat": 4,
 "nbformat_minor": 5
}
