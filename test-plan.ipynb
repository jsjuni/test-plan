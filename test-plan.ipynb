{
 "cells": [
  {
   "cell_type": "markdown",
   "id": "f498dd9d-0863-429c-ad8b-398715c48749",
   "metadata": {
    "panel-layout": {
     "height": 135.625,
     "visible": true,
     "width": 100
    }
   },
   "source": [
    "Planning and Optimizing a Test Campaign\n",
    "=======================================\n",
    "J S Jenkins\n",
    "-----------\n",
    "\n",
    "# Overview\n",
    "\n",
    "# Terminology\n",
    "\n",
    "|Term|Concept and Interpretation|\n",
    "|-------|--------------|\n",
    "| quantity | A measurable property of an object. Example: cylinder head temperature. |\n",
    "| constraint | A relational expression involving at least one quantity. Example: cylinder head temperature less than 100 &deg;C. |\n",
    "| scenario | A named conjunction of constraints. state of the world. Examples: idling (speed 0 m/s), level driving at highway speed (speed 28 m/s, roadway pitch 0&deg;), moderate weather conditions (ambient temperature 20 &deg;C). (For the purposes of this example, we do not require the specific constraints.) |\n",
    "| situation | A conjunction of scenarios used to specify conditions of applicability of a requirement. Examples: idling under moderate weather conditions, level driving at highway speed under moderate weather conditions.\n",
    "|requirement| A constraint on a quantity that applies during a disjunction of situations. Examples: While idling under moderate weather conditions or level driving at highway speed under moderate weather condititions, the cylinder head temperature shall not exceed 100 &deg;C.\n",
    "|configuration| A conjunction of scenarios that stand as proxies for real-world scenarios for the purposes of testing and verification. See Situations to Configurations below.\n",
    "\n",
    "# Workflow Example\n",
    "\n",
    "## Sample Requirement Set\n",
    "\n",
    "Following the terminology above, we generate a set of named quantities, a set of named scenarios, and a set of named requirements. Each requirement applies during a disjunction of unnamed situations. These situations are conjunctions of scenarios and can be represented by the sets of scenarios to be conjoined. Because a scenario is itself a conjunction of constraints, a situation expresses a set of constraints in _disjunctive normal form_.\n",
    "\n",
    "Because constraints necessarily limit the state space, an empty situation denotes _always and everywhere_. A requirement such as \"The vehicle dry mass shall not exceed 1500 kg.\" is interpreted to apply during an empty situation.\n",
    "\n",
    "Each generated requirement is randomly a disjunction of one or two situations, each of which is randomly assigned a conjunction of zero to five scenarios.\n",
    "\n",
    "Finally, each requirement is randomly assigned a quantity to constrain. For the purposes of this experiment, the particular constraint is irrelevant."
   ]
  },
  {
   "cell_type": "code",
   "execution_count": 1,
   "id": "88cb3558-40d7-40cd-98f6-25006ef3e63e",
   "metadata": {},
   "outputs": [
    {
     "name": "stdout",
     "output_type": "stream",
     "text": [
      "80 quantities\n",
      "32 scenarios\n",
      "500 requirements\n"
     ]
    }
   ],
   "source": [
    "import json\n",
    "\n",
    "quantities_file = \"resources/quantities.json\"\n",
    "scenarios_file = \"resources/scenarios.json\"\n",
    "requirements_file = \"resources/requirements.json\"\n",
    "\n",
    "quantities = json.load(fp = open(quantities_file))\n",
    "scenarios = json.load(fp = open(scenarios_file))[\"scenarios\"]\n",
    "requirements = json.load(fp = open(requirements_file))[\"requirements\"]\n",
    "\n",
    "print(f\"{len(quantities)} quantities\")\n",
    "print(f\"{len(scenarios)} scenarios\")\n",
    "print(f\"{len(requirements)} requirements\")\n"
   ]
  },
  {
   "cell_type": "markdown",
   "id": "63566e95-2cbc-45d7-a996-c3dd2e314ce1",
   "metadata": {},
   "source": [
    "## Grouping by Situation\n",
    "\n",
    "If two or more requirements apply in the same situation, it may be more efficient (and/or less error-prone) to verify them in a single activity with that situation in effect. Accordingly, the first step in the workflow is to group requirements by situation. Having done so, we obtain a map from each unique situation to the requirements that explictly apply during that situation and the quantities constrained by those requirements.\n",
    "\n",
    "While it is impractical to conduct \"blind\" testing in a rigorous sense (the constraints imposed by requirements are known to testers), there is an argument that the requirements verification process should be separated into a data collection step that merely collects observations of constrained quantities regardless of the actual constraints, and a subsequent step (perhaps performed by others) that verifies conformance of those observations with the relevant constraints. In the following, we focus on the data collection activities. The verification step is a straightforward computation.\n",
    "\n",
    "In principle, we could proceed directly to testing at this point. In practice, however, other considerations apply. These will be addressed below."
   ]
  },
  {
   "cell_type": "code",
   "execution_count": 2,
   "id": "d73ae986-6f23-4fa2-b735-8d8554165645",
   "metadata": {},
   "outputs": [
    {
     "name": "stdout",
     "output_type": "stream",
     "text": [
      "454 distinct situations\n"
     ]
    }
   ],
   "source": [
    "tests_file = \"build/tests.json\"\n",
    "tests = json.load(open(tests_file))\n",
    "print(f\"{len(tests)} distinct situations\")"
   ]
  },
  {
   "cell_type": "markdown",
   "id": "2d82e648-8fbf-4b5b-94ba-06a1568a5eac",
   "metadata": {},
   "source": [
    "## Situations to Configurations\n",
    "\n",
    "Some real-world scenarios may be impractical, if not impossible, to replicate in a test venue. A spacecraft requirement that applies \"during interplanetary cruise\", for example, would not generally be verified by placing the spacecraft on an interplanetary cruise trajectory. Instead, we would assert a set of scenarios that may involve use of test facilities (e.g., in the thermal vacuum chamber), fixtures (e.g., attached to ground support equipment), environmental simulations (e.g., a heat lamp intensity value) that stand as proxies for the real world for the purpose of testing.\n",
    "\n",
    "As mentioned above, a requirement that applies \"always and everywhere\" is denoted with an empty situation. For example, a vehicle dry mass requirement may apply in principle to its entire lifetime. For practical reasons, however, we would expect to verify it _once_ under a particular scenario (on a scale). So while the requirement's situation is empty, its configuration is not.\n",
    "\n",
    "In the general case, the verification planning for each requirement will entail enumerating the sets of scenarios under which it is to be tested and explaining how these proxy scenario sets adequately represent the real world situations. In keeping with existing verification and validation practices, we call these testing scenario sets _configurations_.\n",
    "\n",
    "The mapping of situations to configurations is antecedent to (and peripheral to) the analysis that follows, so we do not address it further. For the purpose of this demonstration, we simply take the original situations as the test configurations. In practice, the set of configurations may be larger than, smaller than, or the same size as the set of situations."
   ]
  },
  {
   "cell_type": "code",
   "execution_count": 3,
   "id": "647682e9-fac1-49c0-9eb2-5ff4d047dca7",
   "metadata": {},
   "outputs": [
    {
     "name": "stdout",
     "output_type": "stream",
     "text": [
      "454 distinct configurations\n"
     ]
    }
   ],
   "source": [
    "print(f\"{len(tests)} distinct configurations\")"
   ]
  },
  {
   "cell_type": "markdown",
   "id": "c3217462-f313-4d0d-ba71-239f3c0c79bf",
   "metadata": {},
   "source": [
    "## Costs\n",
    "\n",
    "We assume a simple model for the cost of conducting a test campaign, which we take to be a traversal through the set of configurations, and in each configuration, observing all quantities constrained by any requirement that applies in that configuration. We further assume that the campaign begins and ends in an empty configuration.\n",
    "\n",
    "We partition this cost into _reconfiguration cost_ and _observation cost_.\n",
    "\n",
    "### Configuration Setup/Teardown Cost\n",
    "\n",
    "Assume that each scenario has an associated pair of setup and teardown costs. For technical reasons to be explained below we assume that setup and teardown costs for any scenario are equal. (As each setup is paired with a teardown, this limitation is inconsequential.)\n",
    "\n",
    "We define a _reconfiguration cost_ between any two configurations _C_<sub>1</sub> and _C_<sub>2</sub> as the sum of the teardown costs for all scenarios in _C_<sub>1</sub> but not in _C_<sub>2</sub>, plus the sum of the setup costs for all scenarios in _C_<sub>2</sub> but not in _C_<sub>1</sub>.\n",
    "\n",
    "The reconfiguration cost of the campaign is the sum of reconfiguration costs for every adjacent pair of configurations in the campaign. Obviously, this value depends both on the specific configurations in effect and the order of the campaign.\n",
    "\n",
    "For the purpose of the demonstration we randomly assign each scenario a setup/teardown cost between 1 and 20.\n",
    "\n",
    "As an example, if configuration {_S_<sub>1</sub>, _S_<sub>2</sub>, _S_<sub>3</sub>} is followed by configuration {_S_<sub>2</sub>, _S_<sub>3</sub>, _S_<sub>4</sub>} the reconfiguration cost is the (teardown) cost of _S_<sub>1</sub> plus the (setup) cost of _S_<sub>4</sub>."
   ]
  },
  {
   "cell_type": "markdown",
   "id": "5cefa7d5-9ed6-4985-9ea1-685746f4dfa1",
   "metadata": {},
   "source": [
    "### Observation Cost\n",
    "\n",
    "We assume each quantity has an associated cost of observation, assuming that any necessary configuration for that observation are in effect. The observation cost of a configuration is the sum of the observation costs for all quantities constrained by any requirement that applies in that configuration.\n",
    "\n",
    "The observation cost of the campaign is the sum of the observation cost of each configuration. It does not depend on the order of the campaign.\n",
    "\n",
    "For the purpose of the demonstration we randomly assign each quantity an observation cost between 1 and 20."
   ]
  },
  {
   "cell_type": "markdown",
   "id": "0df2fa9b-fc47-4ddb-988b-2c7072bd6e42",
   "metadata": {},
   "source": [
    "## Configuration Sufficiency\n",
    "\n",
    "As a configuration is a set of scenarios, one configuration may be a subset of another. \n",
    "\n",
    "By definition, if a requirement applies in a particular configuration _C_<sub>1</sub>, then it applies in any configuration _C_<sub>2</sub> for which _C_<sub>1</sub> ⊆ _C_<sub>2</sub>.\n",
    "For example, if _C_<sub>1</sub> corresponds to the scenario set {_S_<sub>1</sub>, _S_<sub>2</sub>} and _C_<sub>2</sub> corresponds to the scenario set {_S_<sub>1</sub>, _S_<sub>2</sub>, _S_<sub>3</sub>}, then\n",
    "the state of the world represented by by _C_<sub>2</sub> (_S_<sub>1</sub> ∧ _S_<sub>2</sub> ∧ _S_<sub>3</sub>) implies the state of the world implied by _C_<sub>1</sub> (_S_<sub>1</sub> ∧ _S_<sub>2</sub>), and therefore\n",
    "any requirement that applies during _C_<sub>1</sub> also applies during _C_<sub>2</sub>.\n",
    "\n",
    "Strictly speaking, this fact may enlarge the set of requirements applicable in a configuration, and therefore may also enlarge the set of constrained quantities, and consequently the set of observed quantities.\n",
    "\n",
    "Real-world considerations may allow us to assert that some configurations suffice for others (with regard to a given requirement). For example, a requirement on vehicle braking may explicitly apply to all conditions on a test track, but for the purposes of verification one might determine that \"test track with wet roadway\" is a bounding case that suffices for all others. This is an example of a more restrictive configuration sufficing for a less restrictive one.\n",
    "\n",
    "In other cases, a less restrictive configuration might suffice. For example, a requirement for a seat belt warning indicator might be tested while driving on a test track, but not under every possible driving condition.\n",
    "\n",
    "As in the case of the proxy scenarios, the assertion of sufficiency is an engineering judgment to made carefully and with a full apprecation of the factors that constitute valid testing.\n",
    "\n",
    "For the purpose of this demonstration, we apply a simulator algorithm that, for each requirement, chooses randomly (with equal probability) whether to sample from the least or most restrictive configurations in which that requirement applies, and then chooses exactly one configuration randomly from that sample. This is, of course, a  representation of the _result_ of a complete sufficiency argument, but is in no sense a representation of a valid sufficiency reasoning process.\n",
    "\n",
    "These sufficiency assertions reduce the set of requirements that apply to some configuration, and may therefore reduce the set of observed quantities. If the set of requirements for a configuration is emptied, the configuration is removed. Sufficiency assertions, therefore, may reduce the total number of observations and the number of distinct configurations in the campaign."
   ]
  },
  {
   "cell_type": "code",
   "execution_count": 4,
   "id": "6e3ba8eb-524b-4ec3-9ab9-646290cbc302",
   "metadata": {},
   "outputs": [
    {
     "name": "stdout",
     "output_type": "stream",
     "text": [
      "373 distinct configurations\n"
     ]
    }
   ],
   "source": [
    "tests_pruned_file = \"build_pruned/tests-pruned.json\"\n",
    "tests_pruned = json.load(open(tests_pruned_file))\n",
    "print(f\"{len(tests_pruned)} distinct configurations\")"
   ]
  },
  {
   "cell_type": "markdown",
   "id": "a7c2c884-7a73-45d5-8b36-ff018089e82c",
   "metadata": {},
   "source": [
    "### Observation Cost Heat Maps\n",
    "\n",
    "These heat maps convey the oberservation cost. Configurations (i.e., tests) are the _x_ dimension, quantities are the _y_ dimension.\n",
    "\n",
    "Configurations are ordered as they emerged from the software that constructs the initial test plan. The order is a deterministic artifact of the software implementation; it can be considered for practical purposes to be random.\n",
    "\n",
    "Quantities are ordered from highest observation cost to lowest (top to bottom).\n",
    "\n",
    "#### Before Sufficiency Assertions"
   ]
  },
  {
   "cell_type": "code",
   "execution_count": 5,
   "id": "9a224c66-7f4f-4397-b3eb-c376072d5658",
   "metadata": {},
   "outputs": [
    {
     "name": "stdout",
     "output_type": "stream",
     "text": [
      "observation cost: 30584\n"
     ]
    }
   ],
   "source": [
    "tests_unpruned_unopt_file = \"build_unpruned/tests-unoptimized.json\"\n",
    "tests_unpruned_unopt = json.load(open(tests_unpruned_unopt_file))\n",
    "print(f\"observation cost: {tests_unpruned_unopt['observation_cost']}\")"
   ]
  },
  {
   "cell_type": "markdown",
   "id": "20015c15-5bb4-48e2-92d0-b0df6a6688b8",
   "metadata": {},
   "source": [
    "![before sufficiency](./build_unpruned/tests-unoptimized-obs-heat.png)\n",
    "\n",
    "#### After Sufficiency Assertions"
   ]
  },
  {
   "cell_type": "code",
   "execution_count": 6,
   "id": "7164830a-bda2-43ed-93df-a60e96cbff3a",
   "metadata": {},
   "outputs": [
    {
     "name": "stdout",
     "output_type": "stream",
     "text": [
      "observation cost: 2564\n"
     ]
    }
   ],
   "source": [
    "tests_pruned_unopt_file = \"build_pruned/tests-unoptimized.json\"\n",
    "tests_pruned_unopt = json.load(open(tests_pruned_unopt_file))\n",
    "print(f\"observation cost: {tests_pruned_unopt['observation_cost']}\")"
   ]
  },
  {
   "cell_type": "markdown",
   "id": "2077a37d-5535-423f-ac8c-d18d8e4e6ea5",
   "metadata": {},
   "source": [
    "![before sufficiency](./build_pruned/tests-unoptimized-obs-heat.png)\n",
    "\n",
    "### Reconfiguration Cost Heat Maps"
   ]
  },
  {
   "cell_type": "code",
   "execution_count": 7,
   "id": "34ea3042-6f6f-419d-9e17-c43b6b7d8b2c",
   "metadata": {},
   "outputs": [
    {
     "name": "stdout",
     "output_type": "stream",
     "text": [
      "recconfiguration cost: 29412\n"
     ]
    }
   ],
   "source": [
    "print(f\"recconfiguration cost: {tests_pruned_unopt['reconfiguration_cost']}\")"
   ]
  },
  {
   "cell_type": "markdown",
   "id": "27d36f0c-4b92-485a-a746-ce3fd12eff9e",
   "metadata": {},
   "source": [
    "![before ordering](./build_pruned/tests-unoptimized-scn-heat.png)\n",
    "\n",
    "#### After Optimal Ordering\n",
    "\n",
    "The effort of optimization is apparent. There are relatively fewer setup/teardown events for more expensive scenarios."
   ]
  },
  {
   "cell_type": "code",
   "execution_count": 8,
   "id": "8fd28f46-4b9b-438a-8a23-cd552c17d202",
   "metadata": {},
   "outputs": [
    {
     "name": "stdout",
     "output_type": "stream",
     "text": [
      "reconfiguration cost: 10692\n"
     ]
    }
   ],
   "source": [
    "tests_pruned_opt_file = \"build_pruned/tests-optimized.json\"\n",
    "tests_pruned_opt = json.load(open(tests_pruned_opt_file))\n",
    "print(f\"reconfiguration cost: {tests_pruned_opt['reconfiguration_cost']}\")"
   ]
  },
  {
   "cell_type": "markdown",
   "id": "b942377f-8302-48e9-ae86-09247a90e871",
   "metadata": {},
   "source": [
    "![after ordering](./build_pruned/tests-optimized-scn-heat.png)\n",
    "\n",
    "### Campaign Partitions"
   ]
  },
  {
   "cell_type": "code",
   "execution_count": null,
   "id": "799119f3-2aed-4391-a36d-18e6d2872aca",
   "metadata": {},
   "outputs": [],
   "source": []
  }
 ],
 "metadata": {
  "kernelspec": {
   "display_name": "Python 3 (ipykernel)",
   "language": "python",
   "name": "python3"
  },
  "language_info": {
   "codemirror_mode": {
    "name": "ipython",
    "version": 3
   },
   "file_extension": ".py",
   "mimetype": "text/x-python",
   "name": "python",
   "nbconvert_exporter": "python",
   "pygments_lexer": "ipython3",
   "version": "3.12.7"
  },
  "panel-cell-order": [
   "f498dd9d-0863-429c-ad8b-398715c48749"
  ]
 },
 "nbformat": 4,
 "nbformat_minor": 5
}
